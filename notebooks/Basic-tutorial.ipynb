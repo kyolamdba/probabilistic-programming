{
 "cells": [
  {
   "cell_type": "code",
   "execution_count": 1,
   "metadata": {
    "collapsed": false
   },
   "outputs": [
    {
     "data": {
      "text/plain": [
       "\u001b[32mimport \u001b[39m\u001b[36m$file.$               \n",
       "\n",
       "\u001b[39m"
      ]
     },
     "execution_count": 1,
     "metadata": {},
     "output_type": "execute_result"
    }
   ],
   "source": [
    "import $file.scripts.importer\n",
    "\n",
    "importer.loadProjectDependencies"
   ]
  },
  {
   "cell_type": "code",
   "execution_count": 3,
   "metadata": {
    "collapsed": false
   },
   "outputs": [
    {
     "data": {
      "text/plain": [
       "\u001b[32mimport \u001b[39m\u001b[36mcom.cra.figaro.language._\n",
       "\n",
       "\u001b[39m\n",
       "\u001b[36mhw\u001b[39m: \u001b[32mfigaro\u001b[39m.\u001b[32mlanguage\u001b[39m.\u001b[32mConstant\u001b[39m[\u001b[32mString\u001b[39m] = Constant(Hello world!)\n",
       "\u001b[32mimport \u001b[39m\u001b[36mcom.cra.figaro.algorithm.sampling.Importance\n",
       "\n",
       "\u001b[39m\n",
       "\u001b[36malg\u001b[39m: \u001b[32mfigaro\u001b[39m.\u001b[32malgorithm\u001b[39m.\u001b[32msampling\u001b[39m.\u001b[32mImportance\u001b[39m with \u001b[32mfigaro\u001b[39m.\u001b[32malgorithm\u001b[39m.\u001b[32msampling\u001b[39m.\u001b[32mOneTimeProbQuerySampler\u001b[39m with \u001b[32mfigaro\u001b[39m.\u001b[32malgorithm\u001b[39m.\u001b[32mProbEvidenceQuery\u001b[39m = com.cra.figaro.algorithm.sampling.Importance$$anon$1@2ad023b9\n",
       "\u001b[36mres2_5\u001b[39m: \u001b[32mDouble\u001b[39m = \u001b[32m1.0\u001b[39m\n",
       "\u001b[36mres2_6\u001b[39m: \u001b[32mDouble\u001b[39m = \u001b[32m0.0\u001b[39m"
      ]
     },
     "execution_count": 3,
     "metadata": {},
     "output_type": "execute_result"
    }
   ],
   "source": [
    "import com.cra.figaro.language._\n",
    "\n",
    "val hw = Constant(\"Hello world!\")\n",
    "\n",
    "import com.cra.figaro.algorithm.sampling.Importance\n",
    "\n",
    "val alg = Importance(1000, hw)\n",
    "alg.start()\n",
    "alg.probability(hw, \"Hello world!\")\n",
    "\n",
    "alg.probability(hw, \"Goodbye!\")\n"
   ]
  }
 ],
 "metadata": {
  "anaconda-cloud": {},
  "hide_input": false,
  "kernelspec": {
   "display_name": "Scala",
   "language": "scala",
   "name": "scala"
  },
  "language_info": {
   "codemirror_mode": "text/x-scala",
   "file_extension": ".scala",
   "mimetype": "text/x-scala",
   "name": "scala211",
   "nbconvert_exporter": "scala",
   "pygments_lexer": "scala",
   "version": "2.11.8"
  }
 },
 "nbformat": 4,
 "nbformat_minor": 0
}
