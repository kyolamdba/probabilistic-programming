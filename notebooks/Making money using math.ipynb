{
 "cells": [
  {
   "cell_type": "markdown",
   "metadata": {},
   "source": [
    "# Making money using math"
   ]
  },
  {
   "cell_type": "markdown",
   "metadata": {},
   "source": [
    "Notebook is based on Erik Meijer's [paper with the same name](http://queue.acm.org/detail.cfm?id=3055303)"
   ]
  },
  {
   "cell_type": "code",
   "execution_count": 70,
   "metadata": {
    "collapsed": false
   },
   "outputs": [
    {
     "name": "stdout",
     "output_type": "stream",
     "text": [
      "Compiling importer.sc\n"
     ]
    },
    {
     "data": {
      "text/plain": [
       "\u001b[32mimport \u001b[39m\u001b[36m$file.$               \n",
       "\n",
       "\u001b[39m"
      ]
     },
     "execution_count": 70,
     "metadata": {},
     "output_type": "execute_result"
    }
   ],
   "source": [
    "import $file.scripts.importer\n",
    "\n",
    "importer.loadProjectDependencies"
   ]
  },
  {
   "cell_type": "code",
   "execution_count": 71,
   "metadata": {
    "collapsed": false
   },
   "outputs": [
    {
     "data": {
      "text/plain": [
       "\u001b[32mimport \u001b[39m\u001b[36mcom.cra.figaro.language._\n",
       "\u001b[39m\n",
       "\u001b[32mimport \u001b[39m\u001b[36mcom.cra.figaro.util._\u001b[39m"
      ]
     },
     "execution_count": 71,
     "metadata": {},
     "output_type": "execute_result"
    }
   ],
   "source": [
    "import com.cra.figaro.language._\n",
    "import com.cra.figaro.util._"
   ]
  },
  {
   "cell_type": "markdown",
   "metadata": {},
   "source": [
    "### Conditional Probability Distributions"
   ]
  },
  {
   "cell_type": "code",
   "execution_count": 72,
   "metadata": {
    "collapsed": false
   },
   "outputs": [
    {
     "data": {
      "text/plain": [
       "defined \u001b[32mtrait\u001b[39m \u001b[36mWeight\u001b[39m\n",
       "defined \u001b[32mobject\u001b[39m \u001b[36mObese\u001b[39m\n",
       "defined \u001b[32mobject\u001b[39m \u001b[36mSkinny\u001b[39m\n",
       "\u001b[36mcdc\u001b[39m: \u001b[32mElement\u001b[39m[\u001b[32mwrapper\u001b[39m.\u001b[32mwrapper\u001b[39m.\u001b[32mWeight\u001b[39m] = Select(0.4 -> Obese, 0.6 -> Skinny)"
      ]
     },
     "execution_count": 72,
     "metadata": {},
     "output_type": "execute_result"
    }
   ],
   "source": [
    "trait Weight\n",
    "case object Obese extends Weight\n",
    "case object Skinny extends Weight\n",
    "\n",
    "val cdc: Element[Weight] = Select(0.4 -> Obese, 0.6 -> Skinny)"
   ]
  },
  {
   "cell_type": "code",
   "execution_count": 73,
   "metadata": {
    "collapsed": false
   },
   "outputs": [
    {
     "data": {
      "text/plain": [
       "defined \u001b[32mtrait\u001b[39m \u001b[36mFood\u001b[39m\n",
       "defined \u001b[32mobject\u001b[39m \u001b[36mBurger\u001b[39m\n",
       "defined \u001b[32mobject\u001b[39m \u001b[36mCelery\u001b[39m\n",
       "\u001b[36mdoctor\u001b[39m: \u001b[32mWeight\u001b[39m => \u001b[32mElement\u001b[39m[\u001b[32mwrapper\u001b[39m.\u001b[32mwrapper\u001b[39m.\u001b[32mFood\u001b[39m] = <function1>"
      ]
     },
     "execution_count": 73,
     "metadata": {},
     "output_type": "execute_result"
    }
   ],
   "source": [
    "trait Food\n",
    "case object Burger extends Food\n",
    "case object Celery extends Food\n",
    "\n",
    "val doctor: Weight => Element[Food] = {\n",
    "  case Obese => Select(0.9 -> Burger, 0.1 -> Celery)\n",
    "  case Skinny => Select(0.3 -> Burger, 0.7 -> Celery)\n",
    "}"
   ]
  },
  {
   "cell_type": "code",
   "execution_count": 74,
   "metadata": {
    "collapsed": false
   },
   "outputs": [
    {
     "data": {
      "text/plain": [
       "\u001b[36mlikelihoodTimesPrior\u001b[39m: \u001b[32mElement\u001b[39m[(\u001b[32mcdc\u001b[39m.\u001b[32mValue\u001b[39m, \u001b[32mFood\u001b[39m)] = Chain(Select(0.4 -> Obese, 0.6 -> Skinny), <function1>)"
      ]
     },
     "execution_count": 74,
     "metadata": {},
     "output_type": "execute_result"
    }
   ],
   "source": [
    "val likelihoodTimesPrior = for {\n",
    "  a <- cdc\n",
    "  b <- doctor(a)\n",
    "} yield (a, b)"
   ]
  },
  {
   "cell_type": "markdown",
   "metadata": {
    "collapsed": false
   },
   "source": [
    "https://www.cra.com/sites/default/files/pdf/Figaro_release_notes.pdf\n",
    "https://www.cra.com/sites/default/files/pdf/Figaro_Release_Notes.pdf"
   ]
  },
  {
   "cell_type": "code",
   "execution_count": 75,
   "metadata": {
    "collapsed": false
   },
   "outputs": [
    {
     "data": {
      "text/plain": [
       "\u001b[32mimport \u001b[39m\u001b[36mcom.cra.figaro.algorithm.sampling.Importance\n",
       "\n",
       "\u001b[39m\n",
       "\u001b[36malg\u001b[39m: \u001b[32mImportance\u001b[39m with \u001b[32mcom\u001b[39m.\u001b[32mcra\u001b[39m.\u001b[32mfigaro\u001b[39m.\u001b[32malgorithm\u001b[39m.\u001b[32msampling\u001b[39m.\u001b[32mOneTimeProbQuerySampler\u001b[39m with \u001b[32mcom\u001b[39m.\u001b[32mcra\u001b[39m.\u001b[32mfigaro\u001b[39m.\u001b[32malgorithm\u001b[39m.\u001b[32mProbEvidenceQuery\u001b[39m = com.cra.figaro.algorithm.sampling.Importance$$anon$1@211199f9"
      ]
     },
     "execution_count": 75,
     "metadata": {},
     "output_type": "execute_result"
    }
   ],
   "source": [
    "import com.cra.figaro.algorithm.sampling.Importance\n",
    "\n",
    "val alg = Importance(1000, cdc)\n",
    "alg.start()"
   ]
  },
  {
   "cell_type": "markdown",
   "metadata": {},
   "source": [
    "Valid approximation of P(Obese) = 0.4"
   ]
  },
  {
   "cell_type": "code",
   "execution_count": 76,
   "metadata": {
    "collapsed": false
   },
   "outputs": [
    {
     "data": {
      "text/plain": [
       "\u001b[36mres75\u001b[39m: \u001b[32mDouble\u001b[39m = \u001b[32m0.400999999999998\u001b[39m"
      ]
     },
     "execution_count": 76,
     "metadata": {},
     "output_type": "execute_result"
    }
   ],
   "source": [
    "alg.probability(cdc, Obese)"
   ]
  },
  {
   "cell_type": "code",
   "execution_count": 77,
   "metadata": {
    "collapsed": false
   },
   "outputs": [
    {
     "data": {
      "text/plain": [
       "\u001b[36mcdcCopied\u001b[39m: \u001b[32mElement\u001b[39m[\u001b[32mWeight\u001b[39m] = Apply(Select(0.4 -> Obese, 0.6 -> Skinny), <function1>)\n",
       "\u001b[36malg2\u001b[39m: \u001b[32mImportance\u001b[39m with \u001b[32mcom\u001b[39m.\u001b[32mcra\u001b[39m.\u001b[32mfigaro\u001b[39m.\u001b[32malgorithm\u001b[39m.\u001b[32msampling\u001b[39m.\u001b[32mOneTimeProbQuerySampler\u001b[39m with \u001b[32mcom\u001b[39m.\u001b[32mcra\u001b[39m.\u001b[32mfigaro\u001b[39m.\u001b[32malgorithm\u001b[39m.\u001b[32mProbEvidenceQuery\u001b[39m = com.cra.figaro.algorithm.sampling.Importance$$anon$1@4db6010b"
      ]
     },
     "execution_count": 77,
     "metadata": {},
     "output_type": "execute_result"
    }
   ],
   "source": [
    "val cdcCopied = cdc.map { case x: Weight => x }\n",
    "cdcCopied.setCondition(_ == Obese)\n",
    "\n",
    "val alg2 = Importance(1000, cdc)\n",
    "alg2.start()"
   ]
  },
  {
   "cell_type": "markdown",
   "metadata": {},
   "source": [
    "Not a valid approximation of P(Obese)."
   ]
  },
  {
   "cell_type": "code",
   "execution_count": 78,
   "metadata": {
    "collapsed": false
   },
   "outputs": [
    {
     "data": {
      "text/plain": [
       "\u001b[36mres77\u001b[39m: \u001b[32mDouble\u001b[39m = \u001b[32m1.0\u001b[39m"
      ]
     },
     "execution_count": 78,
     "metadata": {},
     "output_type": "execute_result"
    }
   ],
   "source": [
    "alg2.probability(cdc, Obese)"
   ]
  }
 ],
 "metadata": {
  "anaconda-cloud": {},
  "hide_input": false,
  "kernelspec": {
   "display_name": "Scala",
   "language": "scala",
   "name": "scala"
  },
  "language_info": {
   "codemirror_mode": "text/x-scala",
   "file_extension": ".scala",
   "mimetype": "text/x-scala",
   "name": "scala211",
   "nbconvert_exporter": "scala",
   "pygments_lexer": "scala",
   "version": "2.11.8"
  }
 },
 "nbformat": 4,
 "nbformat_minor": 0
}
